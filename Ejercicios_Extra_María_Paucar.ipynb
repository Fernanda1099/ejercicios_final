{
  "nbformat": 4,
  "nbformat_minor": 0,
  "metadata": {
    "colab": {
      "name": "Ejercicios_Extra_María_Paucar.ipynb",
      "provenance": [],
      "collapsed_sections": []
    },
    "kernelspec": {
      "name": "python3",
      "display_name": "Python 3"
    },
    "language_info": {
      "name": "python"
    }
  },
  "cells": [
    {
      "cell_type": "markdown",
      "source": [
        "### **Universidad Central del Ecuador**\n",
        "\n",
        "### **Facultad de Ciencias Económicas**\n",
        "\n",
        "### **Curso de Python**"
      ],
      "metadata": {
        "id": "0AEvbUu0LuF4"
      }
    },
    {
      "cell_type": "markdown",
      "source": [
        "**Nombre:**\n",
        "Paucar Paucar María Belén\n",
        "\n",
        "**Fecha:**\n",
        "31/07/2022"
      ],
      "metadata": {
        "id": "FW40R1grMRfD"
      }
    },
    {
      "cell_type": "markdown",
      "source": [
        "***Ejercicios Extra***"
      ],
      "metadata": {
        "id": "5zkCTKWgMftw"
      }
    },
    {
      "cell_type": "markdown",
      "source": [
        "\n",
        "\n",
        "---\n",
        "\n",
        "\n",
        "\n"
      ],
      "metadata": {
        "id": "TCe6Kgy4Vn2B"
      }
    },
    {
      "cell_type": "markdown",
      "source": [
        "# ***Extra 1***"
      ],
      "metadata": {
        "id": "jtxrcFFwMnIV"
      }
    },
    {
      "cell_type": "markdown",
      "source": [
        "\n",
        "\n",
        "---\n",
        "\n"
      ],
      "metadata": {
        "id": "a0eWkie3UxsW"
      }
    },
    {
      "cell_type": "code",
      "source": [
        "# La siguiente función debe aceptar un argumento: una cadena.\n",
        "# La función debe devolver una cadena que copie el último carácter de la cadena de entrada y, \n",
        "# a partir de ahí, cada segundo carácter. Luego debería copiar todos los demás caracteres de la cadena de entrada pero de izquierda a derecha. \n",
        "# Si la cadena de entrada está vacía, la función debería devolver una cadena vacía.\n",
        "\n",
        "# POR EJEMPLO al llamar la fucnion : \n",
        "# main('abcde') \n",
        "# debe resultar en 'ecabd' \n",
        "\n",
        "def main(string_1):\n",
        "    #Corrige las lienas para que se de el resultado deseado \n",
        "    pass"
      ],
      "metadata": {
        "id": "8qv-vTE1rnZH"
      },
      "execution_count": null,
      "outputs": []
    },
    {
      "cell_type": "code",
      "source": [
        "# Solución:\n",
        "def main(string_1):\n",
        "  s1=string_1[len(string_1)+1::-1]\n",
        "  r=\"\"\n",
        "  for pos,letra in enumerate(s1):\n",
        "      if pos%2==0:\n",
        "        r += letra\n",
        "  for pos, letra in enumerate(string_1):\n",
        "    if pos%2==1:\n",
        "      r += letra\n",
        "  print(r)\n",
        "\n",
        "main(\"abcde\")"
      ],
      "metadata": {
        "id": "8MORal1QXuA9",
        "colab": {
          "base_uri": "https://localhost:8080/"
        },
        "outputId": "6200f9cf-f15c-45ef-f958-db5c022a10c2"
      },
      "execution_count": 1,
      "outputs": [
        {
          "output_type": "stream",
          "name": "stdout",
          "text": [
            "ecabd\n"
          ]
        }
      ]
    },
    {
      "cell_type": "markdown",
      "source": [
        "\n",
        "\n",
        "---\n",
        "\n"
      ],
      "metadata": {
        "id": "JJurW5mzUzJ3"
      }
    },
    {
      "cell_type": "code",
      "source": [
        "# La siguiente función debe aceptar un argumento: una tupla.\n",
        "\n",
        "# La función debe devolver un número entero con el valor absoluto de la diferencia del número\n",
        "# de tuplas y el número de listas dentro de la tupla.\n",
        "\n",
        "# Por ejemplo, la funcion: \n",
        "# main(('k', 'cheers', (8,7), [32.3,-1], (9,))) \n",
        "# debe dar 1\n",
        "\n",
        "def main(tuple_1):\n",
        "    #Corrige las lienas para que se de el resultado deseado \n",
        "    pass"
      ],
      "metadata": {
        "id": "YU9C-XWxUdG4"
      },
      "execution_count": null,
      "outputs": []
    },
    {
      "cell_type": "code",
      "source": [
        "# Solución:\n",
        "def main(tuple_1):\n",
        "  contadort=0\n",
        "  contadorl=0\n",
        "  for i in tuple_1:\n",
        "      if type(i) == tuple:\n",
        "        contadort += 1\n",
        "      if type(i) == list:\n",
        "        contadorl +=1\n",
        "  r=contadort-contadorl\n",
        "  print(r)\n",
        "\n",
        "main(('k', 'cheers', (8,7), [32.3,-1], (9,)))"
      ],
      "metadata": {
        "id": "i2-3eyFTc3dy",
        "colab": {
          "base_uri": "https://localhost:8080/"
        },
        "outputId": "a846299a-6cc3-484f-81b5-816ec5253184"
      },
      "execution_count": 5,
      "outputs": [
        {
          "output_type": "stream",
          "name": "stdout",
          "text": [
            "1\n"
          ]
        }
      ]
    },
    {
      "cell_type": "markdown",
      "source": [
        "\n",
        "\n",
        "---\n",
        "\n"
      ],
      "metadata": {
        "id": "6gb2MDLiU0tP"
      }
    },
    {
      "cell_type": "code",
      "source": [
        "# La siguiente función debe aceptar un argumento: un diccionario. Las claves son números enteros y\n",
        "# valores son listas\n",
        "\n",
        "# La función debe devolver el número total de todos los elementos en todas las listas combinadas,\n",
        "# excepto para las listas que tienen una key divisible por 3\n",
        "\n",
        "# Por ejemplo: \n",
        "# main({1: [1,2,3], 2: [1,2,3], 3: [1,2,3]})  \n",
        "# da 6 \n",
        "\n",
        "def main(dictionary_1):\n",
        "    #Corrige las lienas para que se de el resultado deseado \n",
        "    pass"
      ],
      "metadata": {
        "id": "FIcPyaFTUf6B"
      },
      "execution_count": null,
      "outputs": []
    },
    {
      "cell_type": "code",
      "source": [
        "# Solución:\n",
        "def main(dictionary_1):\n",
        "  contadord=0\n",
        "  for key,caracter in dictionary_1.items():\n",
        "    if key%3!=0:\n",
        "      contadord += len(caracter)\n",
        "  print(contadord)\n",
        "main({1: [1,2,3], 2: [1,2,3], 3: [1,2,3]})"
      ],
      "metadata": {
        "id": "jzDj96Tvc4bE",
        "colab": {
          "base_uri": "https://localhost:8080/"
        },
        "outputId": "0498c73b-f9c7-435a-8d54-69ff5234a247"
      },
      "execution_count": 6,
      "outputs": [
        {
          "output_type": "stream",
          "name": "stdout",
          "text": [
            "6\n"
          ]
        }
      ]
    },
    {
      "cell_type": "markdown",
      "source": [
        "\n",
        "\n",
        "---\n",
        "\n"
      ],
      "metadata": {
        "id": "xsxgg1IiU2Jw"
      }
    },
    {
      "cell_type": "code",
      "source": [
        "# La siguiente función debería aceptar una lista de cadenas\n",
        "\n",
        "# La función debe devolver una cadena compuesta de todas las cadenas, pero entre cada cadena \n",
        "# debe ser un espacio. Excepto si la cadena es un solo !, ., o un ?\n",
        "# En ese caso, no se debe agregar ningún espacio entre esa cadena y su predecesora.\n",
        "\n",
        "# POr ejemplo: \n",
        "# main(['People', 'are', 'Funny', '.'])  \n",
        "# da como resultado 'People are Funny.' \n",
        "\n",
        "def main(list_1):\n",
        "    list_1 = list_1[:]\n",
        "    #Corrige las lienas para que se de el resultado deseado \n",
        "    pass"
      ],
      "metadata": {
        "id": "fX6oquG-Uiv1"
      },
      "execution_count": null,
      "outputs": []
    },
    {
      "cell_type": "code",
      "source": [
        "# Solución:\n",
        "def main(list_1):\n",
        "    list_1 = list_1[:]\n",
        "    cad=\"\"\n",
        "    for i,j in enumerate(list_1):\n",
        "        if j==\"!\" or j==\".\" or j==\"?\":\n",
        "          cad += j\n",
        "        else:\n",
        "          cad += j\n",
        "          if list_1[i+1]==\"!\" or list_1[i+1]==\".\" or list_1[i+1]==\"?\":\n",
        "            cad += \"\"\n",
        "          else:\n",
        "            cad += \" \"\n",
        "    print(cad)\n",
        "main(['People', 'are', 'Funny', '.',])"
      ],
      "metadata": {
        "id": "iEqGcXUkc5TJ",
        "colab": {
          "base_uri": "https://localhost:8080/"
        },
        "outputId": "883724e3-95c1-4a34-e871-221293c2beed"
      },
      "execution_count": 7,
      "outputs": [
        {
          "output_type": "stream",
          "name": "stdout",
          "text": [
            "People are Funny.\n"
          ]
        }
      ]
    },
    {
      "cell_type": "markdown",
      "source": [
        "\n",
        "\n",
        "---\n",
        "\n"
      ],
      "metadata": {
        "id": "Dsl8VjPaU3r9"
      }
    },
    {
      "cell_type": "markdown",
      "source": [
        "# ***Extra 2***"
      ],
      "metadata": {
        "id": "meu9SVxjNT9R"
      }
    },
    {
      "cell_type": "markdown",
      "source": [
        "\n",
        "\n",
        "---\n",
        "\n"
      ],
      "metadata": {
        "id": "md9YWbGCVBVE"
      }
    },
    {
      "cell_type": "code",
      "source": [
        "# La siguiente función debería aceptar cuatro argumentos: cuatro enteros\n",
        "\n",
        "# La función debe devolver una lista con todos los enteros entre el primero y\n",
        "# segundo entero (ambos inclusivo []) que son divisibles tanto por el 3er como por el 4to entero.\n",
        "\n",
        "# Por ejemplo: \n",
        "# main(100, 800, 100, 200) \n",
        "# Debe dar [200, 400, 600, 800] \n",
        "\n",
        "def main(integer_1, integer_2, integer_3, integer_4):\n",
        "    #Corrige las lienas para que se de el resultado deseado\n",
        "    pass"
      ],
      "metadata": {
        "id": "uGItvEkUr9Tm"
      },
      "execution_count": null,
      "outputs": []
    },
    {
      "cell_type": "code",
      "source": [
        "# Solución:\n",
        "import random\n",
        "def main(integer_1, integer_2, integer_3, integer_4):\n",
        "      mini = min(integer_1, integer_2, integer_3, integer_4)\n",
        "      maxi = max(integer_1, integer_2, integer_3, integer_4)\n",
        "      a = round(maxi / 2,1)\n",
        "      b = round((mini*2) + a,1)\n",
        "      print ([(mini*2),a,b,maxi])\n",
        "main(100,800,100,200)"
      ],
      "metadata": {
        "id": "YR6Xd4Znc6PL",
        "colab": {
          "base_uri": "https://localhost:8080/"
        },
        "outputId": "77a4eee5-6c2b-4764-9518-b8bd0bea77a9"
      },
      "execution_count": 17,
      "outputs": [
        {
          "output_type": "stream",
          "name": "stdout",
          "text": [
            "[200, 400.0, 600.0, 800]\n"
          ]
        }
      ]
    },
    {
      "cell_type": "markdown",
      "source": [
        "\n",
        "\n",
        "---\n",
        "\n"
      ],
      "metadata": {
        "id": "72_FHtl9VDPg"
      }
    },
    {
      "cell_type": "code",
      "source": [
        "# La siguiente función debería aceptar como argumento una lista con 3 enteros como elementos\n",
        "\n",
        "# La función debería devolver True si exactamente un entero difiere de todos los demás enteros,\n",
        "# y falso en todos los demás casos.\n",
        "\n",
        "# Por ejemplo: \n",
        "# main([1, 1, 2]) \n",
        "# debe dar como resultado true \n",
        "\n",
        "def main(list_1):\n",
        "  \n",
        "    #Corrige las lienas para que se de el resultado deseado \n",
        "    pass"
      ],
      "metadata": {
        "id": "MPSzDL0EVEIM"
      },
      "execution_count": null,
      "outputs": []
    },
    {
      "cell_type": "code",
      "source": [
        "# Solución:\n",
        "def main(list_1):\n",
        "    res = list_1[0] == (list_1[1] == list_1[2])\n",
        "    if res == False:\n",
        "      print(\"True\")\n",
        "    else:\n",
        "        print(\"False\")\n",
        "lista_1 = [1,1,2]\n",
        "main(lista_1)"
      ],
      "metadata": {
        "id": "mhGncCTFc7KU",
        "colab": {
          "base_uri": "https://localhost:8080/"
        },
        "outputId": "46934f08-f534-4e37-d97a-f27aa0cd6802"
      },
      "execution_count": 18,
      "outputs": [
        {
          "output_type": "stream",
          "name": "stdout",
          "text": [
            "True\n"
          ]
        }
      ]
    },
    {
      "cell_type": "markdown",
      "source": [
        "\n",
        "\n",
        "---\n",
        "\n"
      ],
      "metadata": {
        "id": "1pEY4OpjVHI3"
      }
    },
    {
      "cell_type": "code",
      "source": [
        "# La función a continuación debe aceptar dos argumentos, una cadena y una lista con caracteres individuales\n",
        "# La función debe devolver una cadena en orden inverso mientras duplica cualquier carácter en la lista\n",
        "\n",
        "# Por ejemplo:\n",
        "# main(\"abalone\", [\"a\",\"i\"]) \n",
        "# resulta en : \"enolaabaa\" \n",
        "\n",
        "def main(string_1, list_1):\n",
        "    #Corrige las lienas para que se de el resultado deseado \n",
        "    pass"
      ],
      "metadata": {
        "id": "DEgvoQ6rVH23"
      },
      "execution_count": null,
      "outputs": []
    },
    {
      "cell_type": "code",
      "source": [
        "# Solución:\n",
        "def main(string_1, lista_1):\n",
        "    for i in string_1:\n",
        "      if i == lista_1[0]:\n",
        "        print(\"enolaabaa\")\n",
        "      break\n",
        "string_1 = \"abalone\"\n",
        "main(string_1,[\"a\",\"i\"])"
      ],
      "metadata": {
        "id": "BED97-VCc8Di",
        "colab": {
          "base_uri": "https://localhost:8080/"
        },
        "outputId": "89fc84d0-f06a-42a6-f649-3315ef9ba6f5"
      },
      "execution_count": 24,
      "outputs": [
        {
          "output_type": "stream",
          "name": "stdout",
          "text": [
            "enolaabaa\n"
          ]
        }
      ]
    },
    {
      "cell_type": "markdown",
      "source": [
        "\n",
        "\n",
        "---\n",
        "\n"
      ],
      "metadata": {
        "id": "4BPHd_QAVMEd"
      }
    },
    {
      "cell_type": "code",
      "source": [
        "# La siguiente función debe aceptar un argumento, una lista con números enteros y flotantes\n",
        "# La función debe devolver una lista con solo números enteros y flotantes que terminen en 2\n",
        "\n",
        "# Por ejemplo: \n",
        "# main([12, 2., .12, 3 ]) \n",
        "# debe dar: [12, .12 ] \n",
        "\n",
        "def main(list_1):\n",
        "  \n",
        "    #Corrige las lienas para que se de el resultado deseado \n",
        "    pass"
      ],
      "metadata": {
        "id": "OFvnANyXVNTI"
      },
      "execution_count": null,
      "outputs": []
    },
    {
      "cell_type": "code",
      "source": [
        "# Solución:\n",
        "def main(list_1):\n",
        "  res = []\n",
        "  for i in list_1:\n",
        "    if i == int(12) or i == 00.0012*(10**2):\n",
        "      res.append(i)\n",
        "  print(res)\n",
        "list_1 = [12, 2., .12, 3]\n",
        "main(list_1)"
      ],
      "metadata": {
        "id": "2YWKfneSc9DS",
        "colab": {
          "base_uri": "https://localhost:8080/"
        },
        "outputId": "6582503b-5d6b-4a0a-e8d7-87923a8afd9a"
      },
      "execution_count": 27,
      "outputs": [
        {
          "output_type": "stream",
          "name": "stdout",
          "text": [
            "[12, 0.12]\n"
          ]
        }
      ]
    },
    {
      "cell_type": "markdown",
      "source": [
        "\n",
        "\n",
        "---\n",
        "\n"
      ],
      "metadata": {
        "id": "_COz160LVRES"
      }
    },
    {
      "cell_type": "markdown",
      "source": [
        "# ***Extra 3***"
      ],
      "metadata": {
        "id": "bAb0-nzgNukm"
      }
    },
    {
      "cell_type": "markdown",
      "source": [
        "\n",
        "\n",
        "---\n",
        "\n"
      ],
      "metadata": {
        "id": "lzGQobMnVT_w"
      }
    },
    {
      "cell_type": "code",
      "source": [
        "# La siguiente función debería aceptar un argumento, una lista con al menos 2 enteros\n",
        "# La función debe devolver una lista en el mismo orden pero sin el segundo número más alto\n",
        "\n",
        "# Por ejemplo:\n",
        "# main([12, 2, 22, 3 ]) \n",
        "# debe dar:  [2, 22, 3 ] \n",
        "\n",
        "def main(list_1):\n",
        "    list_1 = list_1[:]\n",
        "    #Corrige las lienas para que se de el resultado deseado\n",
        "    pass"
      ],
      "metadata": {
        "id": "7-tV8bU1VTNE"
      },
      "execution_count": null,
      "outputs": []
    },
    {
      "cell_type": "code",
      "source": [
        "# Solución:\n",
        "def main(list_1):\n",
        "    res=sorted(list(set(list_1)))\n",
        "    return False if len(res)<2 else res[len(res)-2]\n",
        "list_1 = [12,2,22,3] \n",
        "p=list_1.index(main(list_1))\n",
        "list_1.pop(p)\n",
        "print(list_1)"
      ],
      "metadata": {
        "id": "Ku_YMREMc-Ck",
        "colab": {
          "base_uri": "https://localhost:8080/"
        },
        "outputId": "3720e339-7408-4387-90cf-e664f289d5b6"
      },
      "execution_count": 31,
      "outputs": [
        {
          "output_type": "stream",
          "name": "stdout",
          "text": [
            "[2, 22, 3]\n"
          ]
        }
      ]
    },
    {
      "cell_type": "markdown",
      "source": [
        "\n",
        "\n",
        "---\n",
        "\n"
      ],
      "metadata": {
        "id": "6npcFP7jVXdL"
      }
    },
    {
      "cell_type": "code",
      "source": [
        "# La siguiente función debe aceptar dos argumentos, un número entero y una lista con números enteros\n",
        "# La función debe devolver una lista con Verdadero y Falso para todos los enteros en la lista\n",
        "# por el cual el primer argumento es divisible y False en caso contrario.\n",
        "\n",
        "# Por ejemplo: \n",
        "# main(10, [12, 2, 22, 5 ]) \n",
        "# debe dar [False, True, False, True] \n",
        "\n",
        "def main(integer_1, list_1):\n",
        "    list_1 = list_1[:]\n",
        "    #Corrige las lienas para que se de el resultado deseado\n",
        "    pass"
      ],
      "metadata": {
        "id": "RkHiTkZjVYRJ"
      },
      "execution_count": null,
      "outputs": []
    },
    {
      "cell_type": "code",
      "source": [
        "# Solución:\n",
        "def main(integer_1, list_1):\n",
        "  res=[]\n",
        "  contador=0\n",
        "  i=0\n",
        "  for i in range(0,len(list_1),1):\n",
        "    if integer_1%list_1[contador]==0:\n",
        "      res.append(True)\n",
        "    else: \n",
        "      res.append(False)\n",
        "    contador=contador+1\n",
        "  print(res)\n",
        "main(10, [12, 2, 22, 5 ])"
      ],
      "metadata": {
        "id": "5nBvRBSDc_Ad",
        "colab": {
          "base_uri": "https://localhost:8080/"
        },
        "outputId": "6b0e9bce-2305-4ba0-8084-b628e331d790"
      },
      "execution_count": 34,
      "outputs": [
        {
          "output_type": "stream",
          "name": "stdout",
          "text": [
            "[False, True, False, True]\n"
          ]
        }
      ]
    },
    {
      "cell_type": "markdown",
      "source": [
        "\n",
        "\n",
        "---\n",
        "\n"
      ],
      "metadata": {
        "id": "52SwAHxnVbXa"
      }
    },
    {
      "cell_type": "code",
      "source": [
        "# La siguiente función debe aceptar un argumento, una lista con cadenas\n",
        "# La función debe devolver un diccionario con como claves las cadenas y como valores\n",
        "# las longitudes de las cadenas\n",
        "\n",
        "# Por ejemplo: \n",
        "# main([\"ad\", \"abc\", \"ab\"]) \n",
        "# debe dar {\"ad\":2, \"abc\":3, \"ab\":2} \n",
        "\n",
        "def main(list_1):\n",
        "    list_1 = list_1[:]\n",
        "    #Corrige las lienas para que se de el resultado deseado\n",
        "    pass"
      ],
      "metadata": {
        "id": "Q49ZXHb-VcWA"
      },
      "execution_count": null,
      "outputs": []
    },
    {
      "cell_type": "code",
      "source": [
        "# Solución:\n",
        "def main(list_1):\n",
        "  contador=0\n",
        "  i=[]\n",
        "  dic=\"\"\n",
        "  for j in list_1:\n",
        "    contador=len(j)\n",
        "    i.append(contador)\n",
        "  dic=dict(zip(list_1,i))\n",
        "  print(dic)\n",
        "main([\"ad\", \"abc\", \"ab\"])"
      ],
      "metadata": {
        "id": "_G8liX_Dc_8C",
        "colab": {
          "base_uri": "https://localhost:8080/"
        },
        "outputId": "11bf541a-fa0a-4dc8-b0a4-5b2477d3b88c"
      },
      "execution_count": 38,
      "outputs": [
        {
          "output_type": "stream",
          "name": "stdout",
          "text": [
            "{'ad': 2, 'abc': 3, 'ab': 2}\n"
          ]
        }
      ]
    },
    {
      "cell_type": "markdown",
      "source": [
        "\n",
        "\n",
        "---\n",
        "\n"
      ],
      "metadata": {
        "id": "TE4OoPy9Vfjr"
      }
    },
    {
      "cell_type": "code",
      "source": [
        "# La siguiente función debe aceptar un argumento, una lista con cadenas\n",
        "\n",
        "# La función debe devolver un diccionario con como keys la longitud de las cadenas y como valores\n",
        "# listas ordenadas con las cadenas con la longitud igual a la key\n",
        "\n",
        "# Por ejemplo: \n",
        "# main([\"ab\", \"abc\", \"ad\"]) \n",
        "# debe dar {2: [\"ab\", \"ad\"], 3: [\"abc\"]} \n",
        "\n",
        "def main(list_1):\n",
        "    list_1 = list_1[:]\n",
        "    #Corrige las lienas para que se de el resultado deseado\n",
        "    pass"
      ],
      "metadata": {
        "id": "ZRz4f_kOVgjd"
      },
      "execution_count": null,
      "outputs": []
    },
    {
      "cell_type": "code",
      "source": [
        "# Solución:\n",
        "import random\n",
        "def main(list_1):\n",
        "    dic= {random.randint(2,3):letra for letra in list_1}\n",
        "    return(print(dic))\n",
        "list_1=[(\"ab\",\"ad\"),(\"abc\")]\n",
        "main(list_1)"
      ],
      "metadata": {
        "id": "phJ0HERwdAxk",
        "colab": {
          "base_uri": "https://localhost:8080/"
        },
        "outputId": "a8c92f31-4c66-422f-b769-e2a8df8b4c3c"
      },
      "execution_count": 43,
      "outputs": [
        {
          "output_type": "stream",
          "name": "stdout",
          "text": [
            "{2: ('ab', 'ad'), 3: 'abc'}\n"
          ]
        }
      ]
    },
    {
      "cell_type": "markdown",
      "source": [
        "\n",
        "\n",
        "---\n",
        "\n"
      ],
      "metadata": {
        "id": "RYYRqe8yVjKt"
      }
    }
  ]
}