{
  "cells": [
    {
      "cell_type": "markdown",
      "metadata": {
        "id": "e-sCxYAUmkr7"
      },
      "source": [
        "# EJERCICIOS EXTRA\n",
        "## Extra 1 "
      ]
    },
    {
      "cell_type": "code",
      "execution_count": null,
      "metadata": {
        "id": "J6hxMcQT6OjI",
        "colab": {
          "base_uri": "https://localhost:8080/"
        },
        "outputId": "bc52fc2f-f048-4e5e-bec2-d568fae2f9d8"
      },
      "outputs": [
        {
          "output_type": "stream",
          "name": "stdout",
          "text": [
            "ecabd\n"
          ]
        }
      ],
      "source": [
        "# La siguiente función debe aceptar un argumento: una cadena.\n",
        "# La función debe devolver una cadena que copie el último carácter de la cadena de entrada y, \n",
        "#a partir de ahí, cada segundo carácter. Luego debería copiar todos los demás caracteres de la cadena de entrada pero de izquierda a derecha. \n",
        "#Si la cadena de entrada está vacía, la función debería devolver una cadena vacía.\n",
        "\n",
        "# POR EJEMPLO al llamar la fucnion : \n",
        "# main('abcde') \n",
        "# debe resultar en 'ecabd' \n",
        "\n",
        "def main(string_1):\n",
        "  if string_1=='':\n",
        "    print('')\n",
        "  else: \n",
        "      print(string_1[::-2]+string_1[1::2])\n",
        "main('abcde')\n",
        "\n"
      ]
    },
    {
      "cell_type": "code",
      "execution_count": null,
      "metadata": {
        "id": "2U4_XpzrBX5i",
        "colab": {
          "base_uri": "https://localhost:8080/"
        },
        "outputId": "e925ec34-5e0e-4254-ca2b-1a57aced60d1"
      },
      "outputs": [
        {
          "output_type": "stream",
          "name": "stdout",
          "text": [
            "la diferencia entre el numero de listas y tuplas es:  1\n"
          ]
        }
      ],
      "source": [
        "# La siguiente función debe aceptar un argumento: una tupla.\n",
        "\n",
        "# La función debe devolver un número entero con el valor absoluto de la diferencia del número\n",
        "# de tuplas y el número de listas dentro de la tupla.\n",
        "\n",
        "# Por ejemplo, la funcion: \n",
        "# main(('k', 'cheers', (8,7), [32.3,-1], (9,))) \n",
        "# debe dar 1\n",
        "\n",
        "def main(tuple_1):\n",
        "  a=0\n",
        "  b=0\n",
        "  for tup in tuple_1:\n",
        "      if type(tup)== list:\n",
        "         a+=1\n",
        "      elif type(tup) == tuple:\n",
        "          b=0\n",
        "  result = abs(a-b)\n",
        "  print('la diferencia entre el numero de listas y tuplas es: ', result)  \n",
        "main(('k','cheers',(8,7),[32.3,-1],(9)))  \n"
      ]
    },
    {
      "cell_type": "code",
      "execution_count": null,
      "metadata": {
        "id": "hJ5_h_FQX8RY",
        "colab": {
          "base_uri": "https://localhost:8080/"
        },
        "outputId": "cc0cc3cf-4b87-4b83-9aa4-647c98334fdc"
      },
      "outputs": [
        {
          "output_type": "stream",
          "name": "stdout",
          "text": [
            "la cantidad de elementos de las listas que tienen una key no divisibles por 3 es: 6\n"
          ]
        }
      ],
      "source": [
        "# La siguiente función debe aceptar un argumento: un diccionario. Las claves son números enteros y\n",
        "# valores son listas\n",
        "\n",
        "# La función debe devolver el número total de todos los elementos en todas las listas combinadas,\n",
        "# excepto para las listas que tienen una key divisible por 3\n",
        "\n",
        "# Por ejemplo: \n",
        "# main({1: [1,2,3], 2: [1,2,3], 3: [1,2,3]})  \n",
        "# da 6 \n",
        "\n",
        "def main(dictionary_1):\n",
        "  sumar=0\n",
        "  for key in dictionary_1.keys():\n",
        "    if key%3!=0:\n",
        "      sumar+=len(dictionary_1.values())\n",
        "  print('la cantidad de elementos de las listas que tienen una key no divisibles por 3 es:',sumar)\n",
        "main({1: [1,2,3], 2: [1,2,3], 3: [1,2,3]}) \n",
        " "
      ]
    },
    {
      "cell_type": "code",
      "execution_count": null,
      "metadata": {
        "id": "FKhPvj3GYZ9v",
        "colab": {
          "base_uri": "https://localhost:8080/"
        },
        "outputId": "28d9cce1-0d00-4563-c632-9c2d79dd8256"
      },
      "outputs": [
        {
          "output_type": "stream",
          "name": "stdout",
          "text": [
            "Thebeautifulpeople.\n"
          ]
        }
      ],
      "source": [
        "# La siguiente función debería aceptar una lista de cadenas\n",
        "\n",
        "# La función debe devolver una cadena compuesta de todas las cadenas, pero entre cada cadena \n",
        "# debe ser un espacio. Excepto si la cadena es un solo !, ., o un ?\n",
        "# En ese caso, no se debe agregar ningún espacio entre esa cadena y su predecesora.\n",
        "\n",
        "# POr ejemplo: \n",
        "# main(['The', 'beautiful', 'people', '.'])  \n",
        "# da como resultado 'The beautiful people.' \n",
        "\n",
        "def main(list_1):\n",
        "  result = ''\n",
        "  for character in list_1:\n",
        "     if character != ('.' or '!' or '?'):\n",
        "         result += '' + character\n",
        "     else:\n",
        "           result += character \n",
        "  print(result.lstrip())\n",
        " \n",
        "main(['The', 'beautiful', 'people', '.'])\n",
        "\n"
      ]
    },
    {
      "cell_type": "markdown",
      "metadata": {
        "id": "sqVecFFLi3OO"
      },
      "source": [
        "## Extra 2\n"
      ]
    },
    {
      "cell_type": "code",
      "execution_count": null,
      "metadata": {
        "id": "NIZJR0VGi4ps",
        "colab": {
          "base_uri": "https://localhost:8080/",
          "height": 339
        },
        "outputId": "05ee1a0e-5e0e-4784-bbb0-778717ca0207"
      },
      "outputs": [
        {
          "output_type": "error",
          "ename": "NameError",
          "evalue": "ignored",
          "traceback": [
            "\u001b[0;31m---------------------------------------------------------------------------\u001b[0m",
            "\u001b[0;31mNameError\u001b[0m                                 Traceback (most recent call last)",
            "\u001b[0;32m<ipython-input-40-c405329423eb>\u001b[0m in \u001b[0;36m<module>\u001b[0;34m()\u001b[0m\n\u001b[1;32m     20\u001b[0m          \u001b[0mnew_numbers\u001b[0m\u001b[0;34m.\u001b[0m\u001b[0mappend\u001b[0m\u001b[0;34m(\u001b[0m\u001b[0multimo\u001b[0m\u001b[0;34m)\u001b[0m\u001b[0;34m\u001b[0m\u001b[0;34m\u001b[0m\u001b[0m\n\u001b[1;32m     21\u001b[0m   \u001b[0mprint\u001b[0m\u001b[0;34m(\u001b[0m\u001b[0mnumeros2\u001b[0m\u001b[0;34m)\u001b[0m\u001b[0;34m\u001b[0m\u001b[0;34m\u001b[0m\u001b[0m\n\u001b[0;32m---> 22\u001b[0;31m \u001b[0mmain\u001b[0m\u001b[0;34m(\u001b[0m\u001b[0;36m100\u001b[0m\u001b[0;34m,\u001b[0m \u001b[0;36m800\u001b[0m\u001b[0;34m,\u001b[0m \u001b[0;36m100\u001b[0m\u001b[0;34m,\u001b[0m \u001b[0;36m200\u001b[0m\u001b[0;34m)\u001b[0m\u001b[0;34m\u001b[0m\u001b[0;34m\u001b[0m\u001b[0m\n\u001b[0m\u001b[1;32m     23\u001b[0m \u001b[0;34m\u001b[0m\u001b[0m\n",
            "\u001b[0;32m<ipython-input-40-c405329423eb>\u001b[0m in \u001b[0;36mmain\u001b[0;34m(integer_1, integer_2, integer_3, integer_4)\u001b[0m\n\u001b[1;32m     12\u001b[0m   \u001b[0mnew_numeros2\u001b[0m \u001b[0;34m=\u001b[0m \u001b[0;34m[\u001b[0m\u001b[0;34m]\u001b[0m\u001b[0;34m\u001b[0m\u001b[0;34m\u001b[0m\u001b[0m\n\u001b[1;32m     13\u001b[0m   \u001b[0mnumeros2\u001b[0m \u001b[0;34m=\u001b[0m \u001b[0;36m0\u001b[0m\u001b[0;34m\u001b[0m\u001b[0;34m\u001b[0m\u001b[0m\n\u001b[0;32m---> 14\u001b[0;31m   \u001b[0;32mfor\u001b[0m \u001b[0ma\u001b[0m \u001b[0;32min\u001b[0m \u001b[0mnumbers\u001b[0m\u001b[0;34m:\u001b[0m\u001b[0;34m\u001b[0m\u001b[0;34m\u001b[0m\u001b[0m\n\u001b[0m\u001b[1;32m     15\u001b[0m       \u001b[0;32mwhile\u001b[0m \u001b[0mnumeros2\u001b[0m\u001b[0;34m>=\u001b[0m\u001b[0;36m0\u001b[0m \u001b[0;32mand\u001b[0m \u001b[0mnumeros2\u001b[0m \u001b[0;34m<\u001b[0m \u001b[0mnumbers\u001b[0m\u001b[0;34m[\u001b[0m\u001b[0;36m1\u001b[0m\u001b[0;34m]\u001b[0m\u001b[0;34m:\u001b[0m\u001b[0;34m\u001b[0m\u001b[0;34m\u001b[0m\u001b[0m\n\u001b[1;32m     16\u001b[0m           \u001b[0mnumeros2\u001b[0m\u001b[0;34m+=\u001b[0m \u001b[0mnumbers\u001b[0m\u001b[0;34m[\u001b[0m\u001b[0;36m0\u001b[0m\u001b[0;34m]\u001b[0m\u001b[0;34m\u001b[0m\u001b[0;34m\u001b[0m\u001b[0m\n",
            "\u001b[0;31mNameError\u001b[0m: name 'numbers' is not defined"
          ]
        }
      ],
      "source": [
        "# La siguiente función debería aceptar cuatro argumentos: cuatro enteros\n",
        "\n",
        "# La función debe devolver una lista con todos los enteros entre el primero y\n",
        "# segundo entero (ambos inclusivo []) que son divisibles tanto por el 3er como por el 4to entero.\n",
        "\n",
        "# Por ejemplo: \n",
        "# main(100, 800, 100, 200) \n",
        "# Debe dar [200, 400, 600, 800] \n",
        "\n",
        "def main(integer_1, integer_2, integer_3, integer_4):\n",
        "  new_numbers = []\n",
        "  new_numeros2 = []\n",
        "  numeros2 = 0 \n",
        "  for a in numbers:\n",
        "      while numeros2 >= 0 and numeros2 < numbers[1]:\n",
        "          numeros2 += numbers[0]\n",
        "          new_numbers.append(numeros2)\n",
        "  for ultimo in new_numbers:\n",
        "      if ultimo% numbers[2]==0 and ultimo% numbers[3]== 0:\n",
        "         new_numbers.append(ultimo)\n",
        "  print(numeros2)\n",
        "main(100, 800, 100, 200)   \n",
        "  "
      ]
    },
    {
      "cell_type": "code",
      "execution_count": null,
      "metadata": {
        "id": "dtu2-H95jgh0",
        "colab": {
          "base_uri": "https://localhost:8080/"
        },
        "outputId": "4499ae3c-e366-4e69-90f5-b731106ae34e"
      },
      "outputs": [
        {
          "output_type": "stream",
          "name": "stdout",
          "text": [
            "true\n"
          ]
        }
      ],
      "source": [
        "# La siguiente función debería aceptar como argumento una lista con 3 enteros como elementos\n",
        "\n",
        "# La función debería devolver True si exactamente un entero difiere de todos los demás enteros,\n",
        "# y falso en todos los demás casos.\n",
        "\n",
        "# Por ejemplo: \n",
        "# main([1, 1, 2]) \n",
        "# debe dar como resultado true \n",
        "\n",
        "def main(list_1):\n",
        "  if len(list_1) - len(set(list_1)) ==0:\n",
        "    print('false')\n",
        "  elif len(list_1) - len(set(list_1)) >=1:\n",
        "    if len(set(list_1)) == 2:\n",
        "      print('true')\n",
        "    else:\n",
        "      print('false')\n",
        "main([1, 1, 2,]) \n",
        "  \n"
      ]
    },
    {
      "cell_type": "code",
      "execution_count": null,
      "metadata": {
        "id": "fqOe0O0ukR7M",
        "colab": {
          "base_uri": "https://localhost:8080/"
        },
        "outputId": "d62d5218-96d0-4f3b-f4d7-d8b9112f8377"
      },
      "outputs": [
        {
          "output_type": "stream",
          "name": "stdout",
          "text": [
            "enolaabaa\n"
          ]
        }
      ],
      "source": [
        "# La función a continuación debe aceptar dos argumentos, una cadena y una lista con caracteres individuales\n",
        "# La función debe devolver una cadena en orden inverso mientras duplica cualquier carácter en la lista\n",
        "\n",
        "# Por ejemplo:\n",
        "# main(\"abalone\", [\"a\",\"i\"]) \n",
        "# resulta en : \"enolaabaa\" \n",
        "\n",
        "def main(string_1, list_1):\n",
        "  string_b=string_1[::-1]\n",
        "  string_c = ''\n",
        "  for letra in list_1:\n",
        "    x=letra in string_b\n",
        "    if x == True:\n",
        "      for character in string_b:\n",
        "        if letra== character:\n",
        "          string_c+=character*2\n",
        "        elif letra!= character:\n",
        "          string_c+=character\n",
        "  print(string_c)\n",
        "main(\"abalone\", [\"a\",\"i\"]) "
      ]
    },
    {
      "cell_type": "code",
      "execution_count": null,
      "metadata": {
        "colab": {
          "base_uri": "https://localhost:8080/"
        },
        "id": "6XZSEre4lYo4",
        "outputId": "47b1dcce-85a8-4b72-f041-2788a0c72815"
      },
      "outputs": [
        {
          "output_type": "stream",
          "name": "stdout",
          "text": [
            "[12, 0.12]\n"
          ]
        }
      ],
      "source": [
        "# La siguiente función debe aceptar un argumento, una lista con números enteros y flotantes\n",
        "# La función debe devolver una lista con solo números enteros y flotantes que terminen en 2\n",
        "\n",
        "# Por ejemplo: \n",
        "# main([12, 2., .12, 3 ]) \n",
        "# debe dar: [12, .12 ] \n",
        "\n",
        "def main(list_1):\n",
        "  respuesta=[]\n",
        "  for elementos in list_1:\n",
        "    if int(str(elementos)[-1])==2:\n",
        "      respuesta.append(elementos)\n",
        "  print(respuesta)\n",
        "main([12, 2., .12, 3 ])"
      ]
    },
    {
      "cell_type": "markdown",
      "metadata": {
        "id": "yYz5NSs6mksE"
      },
      "source": [
        "## Extra 3"
      ]
    },
    {
      "cell_type": "code",
      "execution_count": null,
      "metadata": {
        "id": "KqroULXilgsw"
      },
      "outputs": [],
      "source": [
        "# La siguiente función debería aceptar un argumento, una lista con al menos 2 enteros\n",
        "# La función debe devolver una lista en el mismo orden pero sin el segundo número más alto\n",
        "\n",
        "# Por ejemplo:\n",
        "# main([12, 2, 22, 3 ]) \n",
        "# debe dar:  [2, 22, 3 ] \n",
        "\n",
        "def main(list_1):\n",
        "\n",
        "#no entiendo \n"
      ]
    },
    {
      "cell_type": "code",
      "execution_count": null,
      "metadata": {
        "id": "2yKboKWAtZ0i",
        "colab": {
          "base_uri": "https://localhost:8080/"
        },
        "outputId": "96aae638-a0b8-4f7f-ecae-d7cb8436205c"
      },
      "outputs": [
        {
          "output_type": "stream",
          "name": "stdout",
          "text": [
            "['false', 'true', 'false', 'true']\n"
          ]
        }
      ],
      "source": [
        "# La siguiente función debe aceptar dos argumentos, un número entero y una lista con números enteros\n",
        "# La función debe devolver una lista con Verdadero y Falso para todos los enteros en la lista\n",
        "# por el cual el primer argumento es divisible y False en caso contrario.\n",
        "\n",
        "# Por ejemplo: \n",
        "# main(10, [12, 2, 22, 5 ]) \n",
        "# debe dar [False, True, False, True] \n",
        "\n",
        "def main(integer_1, list_1):\n",
        "  respuesta=[]\n",
        "  for elementos in list_1:\n",
        "    if integer_1% elementos==0:\n",
        "      respuesta.append('true')\n",
        "    elif integer_1% elementos !=0:\n",
        "      respuesta.append('false')\n",
        "  print(respuesta)\n",
        "main(10, [12, 2, 22, 5 ]) \n"
      ]
    },
    {
      "cell_type": "code",
      "execution_count": null,
      "metadata": {
        "id": "XRiUD6B0yhu_",
        "colab": {
          "base_uri": "https://localhost:8080/"
        },
        "outputId": "242191ac-7f16-4c1c-f86c-c75ac660fa72"
      },
      "outputs": [
        {
          "output_type": "stream",
          "name": "stdout",
          "text": [
            "{'ad': 2, 'abc': 3, 'ab': 2}\n"
          ]
        }
      ],
      "source": [
        "# La siguiente función debe aceptar un argumento, una lista con cadenas\n",
        "# La función debe devolver un diccionario con como claves las cadenas y como valores\n",
        "# las longitudes de las cadenas\n",
        "\n",
        "# Por ejemplo: \n",
        "# main([\"ad\", \"abc\", \"ab\"]) \n",
        "# debe dar {\"ad\":2, \"abc\":3, \"ab\":2} \n",
        "\n",
        "def main(list_1):\n",
        "  dictionary_1 = {}\n",
        "  for letras in list_1:\n",
        "    dictionary_1[letras]= len(letras)\n",
        "  print(dictionary_1)\n",
        "main([\"ad\", \"abc\", \"ab\"]) \n"
      ]
    },
    {
      "cell_type": "code",
      "execution_count": null,
      "metadata": {
        "id": "sE1Fa5gPy3ec",
        "colab": {
          "base_uri": "https://localhost:8080/"
        },
        "outputId": "63448a09-b6ab-4977-f331-9615ace96be7"
      },
      "outputs": [
        {
          "output_type": "stream",
          "name": "stdout",
          "text": [
            "{2: 'ad', 3: 'abc'}\n"
          ]
        }
      ],
      "source": [
        "# La siguiente función debe aceptar un argumento, una lista con cadenas\n",
        "\n",
        "# La función debe devolver un diccionario con como keys la longitud de las cadenas y como valores\n",
        "# listas ordenadas con las cadenas con la longitud igual a la key\n",
        "\n",
        "# Por ejemplo: \n",
        "# main([\"ab\", \"abc\", \"ad\"]) \n",
        "# debe dar {2: [\"ab\", \"ad\"], 3: [\"abc\"]} \n",
        "\n",
        "lista_1 =['ab','abc','ad']\n",
        "dictionary_1 = {}\n",
        "largo=[]\n",
        "\n",
        "for letras in lista_1:\n",
        "  largo.append(len(letras))\n",
        "  sets= set(largo)\n",
        "  for key in sets:\n",
        "    if len(letras)== key:\n",
        "      dictionary_1[key]=letras\n",
        "print(dictionary_1)\n"
      ]
    }
  ],
  "metadata": {
    "colab": {
      "collapsed_sections": [],
      "name": "ejercicios_extra_clase_1_Mera_Andres.ipynb",
      "provenance": []
    },
    "kernelspec": {
      "display_name": "Python 3",
      "language": "python",
      "name": "python3"
    },
    "language_info": {
      "codemirror_mode": {
        "name": "ipython",
        "version": 3
      },
      "file_extension": ".py",
      "mimetype": "text/x-python",
      "name": "python",
      "nbconvert_exporter": "python",
      "pygments_lexer": "ipython3",
      "version": "3.8.5"
    }
  },
  "nbformat": 4,
  "nbformat_minor": 0
}